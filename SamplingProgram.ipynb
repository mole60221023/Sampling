{
  "nbformat": 4,
  "nbformat_minor": 0,
  "metadata": {
    "colab": {
      "name": "SamplingProgram",
      "provenance": [],
      "include_colab_link": true
    },
    "kernelspec": {
      "name": "python3",
      "display_name": "Python 3"
    }
  },
  "cells": [
    {
      "cell_type": "markdown",
      "metadata": {
        "id": "view-in-github",
        "colab_type": "text"
      },
      "source": [
        "<a href=\"https://colab.research.google.com/github/mole60221023/Sampling/blob/main/SamplingProgram.ipynb\" target=\"_parent\"><img src=\"https://colab.research.google.com/assets/colab-badge.svg\" alt=\"Open In Colab\"/></a>"
      ]
    },
    {
      "cell_type": "markdown",
      "metadata": {
        "id": "z1N3lhZF58fj"
      },
      "source": [
        "Use the section below for Parts 1, 2, and 5 of the Sampling exercise."
      ]
    },
    {
      "cell_type": "code",
      "metadata": {
        "id": "Gd9YBx3VcUNa",
        "cellView": "form",
        "colab": {
          "base_uri": "https://localhost:8080/",
          "height": 373
        },
        "outputId": "0078f221-500c-4c1c-a080-7942dbe03ee7"
      },
      "source": [
        "import random\n",
        "import matplotlib.pyplot as plt\n",
        "import numpy as np\n",
        "\n",
        "Sample_Size =  500#@param {type:\"integer\"}\n",
        "Scarlet_Percent =  50#@param {type:\"integer\"}\n",
        "Gray_Percent =  50#@param {type:\"integer\"}\n",
        "\n",
        "\n",
        "particles = [\"Scarlet\", \"Gray\"]\n",
        "\n",
        "sample=random.choices(particles, weights = [Scarlet_Percent,Gray_Percent], k = Sample_Size)\n",
        "\n",
        "Number_of_Scarlet=sample.count(\"Scarlet\")\n",
        "Number_of_Gray=sample.count(\"Gray\")\n",
        "\n",
        "print(\"Number of Scarlet = \", +Number_of_Scarlet)\n",
        "print(\"Number of Gray = \", +Number_of_Gray)\n",
        "print()\n",
        "print(\"Percent Scarlet = \", +round((Number_of_Scarlet/Sample_Size*100),2))\n",
        "print(\"Percent Gray = \", +round((Number_of_Gray/Sample_Size*100),2))\n",
        "\n",
        "#@title\n",
        "objects = ('Scarlet', 'Gray',)\n",
        "y_pos = np.arange(len(objects))\n",
        "scarletgray = [Number_of_Scarlet, Number_of_Gray]\n",
        "\n",
        "plt.bar(y_pos, scarletgray, align='center', alpha=1, color=('#be0119','#929591'))\n",
        "plt.xticks(y_pos, objects)\n",
        "plt.ylabel('Number')\n",
        "plt.title('Number of Scarlet and Gray')\n",
        "\n",
        "plt.show()"
      ],
      "execution_count": 1,
      "outputs": [
        {
          "output_type": "stream",
          "text": [
            "Number of Scarlet =  238\n",
            "Number of Gray =  262\n",
            "\n",
            "Percent Scarlet =  47.6\n",
            "Percent Gray =  52.4\n"
          ],
          "name": "stdout"
        },
        {
          "output_type": "display_data",
          "data": {
            "image/png": "[encoded data removed]",
            "text/plain": [
              "<Figure size 432x288 with 1 Axes>"
            ]
          },
          "metadata": {
            "tags": [],
            "needs_background": "light"
          }
        }
      ]
    },
    {
      "cell_type": "markdown",
      "metadata": {
        "id": "fwQuaUQA-2Ft"
      },
      "source": [
        "**----------------------------------------------------------**\n",
        "\n",
        "**Use the section below for Part 3 of the Sampling exercise.**"
      ]
    },
    {
      "cell_type": "markdown",
      "metadata": {
        "id": "F9lzcowK_prl"
      },
      "source": [
        "**Only run the first block of code once!!**\n",
        "\n",
        "---\n",
        "\n",
        "\n",
        " \n",
        "\n",
        "1.  Run the first block of code one time.  Only once! This sets the unknown percent.  If you run this block after running the second block you reset the program and will need to rerun the second block.\n",
        "2.  Run the second block of code.  You can run the second block of code as many times as you want.\n",
        "3.  Use the results from the second block of code to answer the questions in Part 3 of the assignment."
      ]
    },
    {
      "cell_type": "markdown",
      "metadata": {
        "id": "f5eNdPRW_7Ve"
      },
      "source": [
        "Block 1: "
      ]
    },
    {
      "cell_type": "code",
      "metadata": {
        "id": "MSwU4hTZ-7UF"
      },
      "source": [
        "#@title\n",
        "#Only run this block once!!\n",
        "import random\n",
        "from random import randint\n",
        "for _ in range(1):\n",
        "\tvalue = randint(1, 9)*0.1"
      ],
      "execution_count": 2,
      "outputs": []
    },
    {
      "cell_type": "markdown",
      "metadata": {
        "id": "n_7JEa4YADZI"
      },
      "source": [
        "Block 2:"
      ]
    },
    {
      "cell_type": "code",
      "metadata": {
        "id": "4RWQBa60_pLR",
        "cellView": "form",
        "colab": {
          "base_uri": "https://localhost:8080/",
          "height": 354
        },
        "outputId": "1084bacd-b763-49fd-a5b5-53ae87d49460"
      },
      "source": [
        "#@title\n",
        "import numpy as np\n",
        "import matplotlib.pyplot as plt\n",
        "\n",
        "sample_size =  50#@param {type:\"number\"}\n",
        "Scarlet_probability = value \n",
        "Gray_probability =1-value\n",
        "#generate an array of 0 or 1 with x length, 0 and 1 have unequal equal probabilities (p=0.5)\n",
        "\n",
        "array = np.random.choice(2,sample_size,p=[Scarlet_probability, Gray_probability])\n",
        "zero = np.count_nonzero(array == 0)\n",
        "one = np.count_nonzero(array == 1)\n",
        "print(\"number of gray=\", +zero)\n",
        "print(\"number of scarlet=\", +one)\n",
        "print(\"% gray=\", +(zero/sample_size*100))\n",
        "print(\"% scarlet=\", +(one/sample_size*100))\n",
        "\n",
        "#@title\n",
        "objects = ('scarlet', 'gray',)\n",
        "y_pos = np.arange(len(objects))\n",
        "scarletgray = [one, zero]\n",
        "\n",
        "plt.bar(y_pos, scarletgray, align='center', alpha=1, color=('#be0119','#929591'))\n",
        "plt.xticks(y_pos, objects)\n",
        "plt.ylabel('Number')\n",
        "plt.title('Number of Scarlet and Gray')\n",
        "\n",
        "plt.show()"
      ],
      "execution_count": null,
      "outputs": [
        {
          "output_type": "stream",
          "text": [
            "number of gray= 8\n",
            "number of scarlet= 42\n",
            "% gray= 16.0\n",
            "% scarlet= 84.0\n"
          ],
          "name": "stdout"
        },
        {
          "output_type": "display_data",
          "data": {
            "image/png": "[encoded data removed]",
            "text/plain": [
              "<Figure size 432x288 with 1 Axes>"
            ]
          },
          "metadata": {
            "tags": [],
            "needs_background": "light"
          }
        }
      ]
    },
    {
      "cell_type": "markdown",
      "metadata": {
        "id": "9nA3nOy5AS5p"
      },
      "source": [
        "Block 3: Do not run this block of code below until instructed to do so in the assignment.  "
      ]
    },
    {
      "cell_type": "code",
      "metadata": {
        "id": "tzLZl9tM_VKQ",
        "colab": {
          "base_uri": "https://localhost:8080/"
        },
        "outputId": "6b757bd5-a1eb-42b2-8721-8aeaf4a0d589"
      },
      "source": [
        "#@title\n",
        "print (\"% Scarlet= \", +round(value*100))\n",
        "print (\"% Gray= \", +round((1-value)*100))"
      ],
      "execution_count": 3,
      "outputs": [
        {
          "output_type": "stream",
          "text": [
            "% Scarlet=  30\n",
            "% Gray=  70\n"
          ],
          "name": "stdout"
        }
      ]
    },
    {
      "cell_type": "markdown",
      "metadata": {
        "id": "itANwvk-A60P"
      },
      "source": [
        "**__________________________________________________________________**\n",
        "\n",
        "**Use the code below to answer questions from Part 4 of the sampling exercise.**"
      ]
    },
    {
      "cell_type": "code",
      "metadata": {
        "id": "CGYa1sD1Bgko",
        "cellView": "form",
        "colab": {
          "base_uri": "https://localhost:8080/",
          "height": 715
        },
        "outputId": "a091cff7-2c78-4063-eaed-eccf45fb456a"
      },
      "source": [
        "import numpy as np\n",
        "import pandas as pd\n",
        "import matplotlib.pyplot as plt\n",
        "import statistics\n",
        "import random\n",
        "\n",
        "Sample_Size =  2000#@param {type:\"integer\"}\n",
        "number_of_times_to_sample =  5#@param {type:\"integer\"}\n",
        "Scarlet_Percent =  50#@param {type:\"number\"}\n",
        "Gray_Percent = 50#@param {type:\"number\"}\n",
        "\n",
        "particles = [\"Scarlet\", \"Gray\"]\n",
        "\n",
        "Scarlet=np.empty(0)\n",
        "Gray=np.empty(0)\n",
        "for x in range(number_of_times_to_sample):\n",
        "    sample=random.choices(particles, weights = [Scarlet_Percent,Gray_Percent], k = Sample_Size)\n",
        "    Scarlet=np.append(sample.count(\"Scarlet\"), [Scarlet])\n",
        "    Gray=np.append(sample.count(\"Gray\"), [Gray])\n",
        "\n",
        "plt.plot(Gray, color='#929591', marker='o')\n",
        "plt.ylabel('number of gray')\n",
        "plt.show()\n",
        "\n",
        "plt.plot(Scarlet, color='#be0119', marker='o')\n",
        "plt.ylabel('number of scarlet')\n",
        "plt.show()\n",
        "\n",
        "print(\"gray average = \", + statistics.mean(Gray))\n",
        "print(\"gray standard deviation = \", + round(statistics.stdev(Gray),2))\n",
        "print(\"% gray average=\", +(statistics.mean(Gray)/Sample_Size*100))\n",
        "print(\"% gray standard deviation=\", + round((statistics.stdev(Gray)/Sample_Size*100),2))\n",
        "print(\"gray % rel. standard deviation= \", +round(statistics.stdev(Gray)/statistics.mean(Gray)*100,2))\n",
        "print()\n",
        "print(\"scarlet average = \", + statistics.mean(Scarlet))\n",
        "print(\"scarlet standard deviation = \", + round(statistics.stdev(Scarlet),2))\n",
        "print(\"% scarlet average=\", +(statistics.mean(Scarlet)/Sample_Size*100))\n",
        "print(\"% scarlet standard deviation=\", + round((statistics.stdev(Scarlet)/Sample_Size*100),2))\n",
        "print(\"scarlet % rel. standard deviation= \", +round(statistics.stdev(Scarlet)/statistics.mean(Scarlet)*100,2))\n"
      ],
      "execution_count": 4,
      "outputs": [
        {
          "output_type": "display_data",
          "data": {
            "image/png": "[encoded data removed]",
            "text/plain": [
              "<Figure size 432x288 with 1 Axes>"
            ]
          },
          "metadata": {
            "tags": [],
            "needs_background": "light"
          }
        },
        {
          "output_type": "display_data",
          "data": {
            "image/png": "[encoded data removed]",
            "text/plain": [
              "<Figure size 432x288 with 1 Axes>"
            ]
          },
          "metadata": {
            "tags": [],
            "needs_background": "light"
          }
        },
        {
          "output_type": "stream",
          "text": [
            "gray average =  1006.0\n",
            "gray standard deviation =  27.95\n",
            "% gray average= 50.3\n",
            "% gray standard deviation= 1.4\n",
            "gray % rel. standard deviation=  2.78\n",
            "\n",
            "scarlet average =  994.0\n",
            "scarlet standard deviation =  27.95\n",
            "% scarlet average= 49.7\n",
            "% scarlet standard deviation= 1.4\n",
            "scarlet % rel. standard deviation=  2.81\n"
          ],
          "name": "stdout"
        }
      ]
    },
    {
      "cell_type": "markdown",
      "metadata": {
        "id": "6nhVkvS6NRtr"
      },
      "source": [
        "**_______________________________________________________________**\n",
        "\n",
        "**Use the following code for Part 6 of the Sampling exercise.**"
      ]
    },
    {
      "cell_type": "code",
      "metadata": {
        "id": "8dNRBTTWNxPq",
        "cellView": "form",
        "colab": {
          "base_uri": "https://localhost:8080/"
        },
        "outputId": "fb14cd56-549e-4219-bd07-68ec4fe3a565"
      },
      "source": [
        "import numpy as np\n",
        "import pandas as pd\n",
        "import matplotlib.pyplot as plt\n",
        "import statistics\n",
        "import random\n",
        "\n",
        "sample_mass =  0.7#@param {type:\"number\"}\n",
        "number_of_times_to_sample =  3#@param {type:\"integer\"}\n",
        "Scarlet_Percent =  2#@param {type:\"number\"}\n",
        "Gray_Percent = 98#@param {type:\"number\"}\n",
        "\n",
        "Sample_Size=int((sample_mass/(1.807*0.000000523)))\n",
        "\n",
        "particles = [\"Scarlet\", \"Gray\"]\n",
        "\n",
        "Scarlet=np.empty(0)\n",
        "Gray=np.empty(0)\n",
        "for x in range(number_of_times_to_sample):\n",
        "    sample=random.choices(particles, weights = [Scarlet_Percent,Gray_Percent], k = Sample_Size)\n",
        "    Scarlet=np.append(sample.count(\"Scarlet\"), [Scarlet])\n",
        "    Gray=np.append(sample.count(\"Gray\"), [Gray])\n",
        "\n",
        "print(\"scarlet average = \", + statistics.mean(Scarlet))\n",
        "print(\"scarlet standard deviation = \", + round(statistics.stdev(Scarlet),2))\n",
        "print(\"% scarlet average=\", +(statistics.mean(Scarlet)/Sample_Size*100))\n",
        "print(\"% scarlet standard deviation=\", + round((statistics.stdev(Scarlet)/Sample_Size*100),2))\n",
        "print(\"scarlet % rel. standard deviation= \", +round(statistics.stdev(Scarlet)/statistics.mean(Scarlet)*100,2))\n",
        "print()\n",
        "print(\"gray average = \", + statistics.mean(Gray))\n",
        "print(\"gray standard deviation = \", + round(statistics.stdev(Gray),2))\n",
        "print(\"% gray average=\", +(statistics.mean(Gray)/Sample_Size*100))\n",
        "print(\"% gray standard deviation=\", + round((statistics.stdev(Gray)/Sample_Size*100),2))\n",
        "print(\"gray % rel. standard deviation= \", +round(statistics.stdev(Gray)/statistics.mean(Gray)*100,2))\n"
      ],
      "execution_count": 5,
      "outputs": [
        {
          "output_type": "stream",
          "text": [
            "scarlet average =  14762.666666666666\n",
            "scarlet standard deviation =  185.38\n",
            "% scarlet average= 1.993091145397367\n",
            "% scarlet standard deviation= 0.03\n",
            "scarlet % rel. standard deviation=  1.26\n",
            "\n",
            "gray average =  725929.3333333334\n",
            "gray standard deviation =  185.38\n",
            "% gray average= 98.00690885460264\n",
            "% gray standard deviation= 0.03\n",
            "gray % rel. standard deviation=  0.03\n"
          ],
          "name": "stdout"
        }
      ]
    }
  ]
}